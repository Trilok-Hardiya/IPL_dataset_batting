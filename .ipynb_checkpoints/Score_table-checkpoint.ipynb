{
 "cells": [
  {
   "cell_type": "code",
   "execution_count": 6,
   "id": "5833c1b2-30b7-412f-93aa-0f330b293e2e",
   "metadata": {},
   "outputs": [],
   "source": [
    "import pandas as pd;"
   ]
  },
  {
   "cell_type": "code",
   "execution_count": 7,
   "id": "7b45577e-a60c-4202-9578-b39882fb102e",
   "metadata": {},
   "outputs": [
    {
     "name": "stdout",
     "output_type": "stream",
     "text": [
      "Top 5 Run Scorers by Season (Names and Runs):\n",
      "    season           name   runs\n",
      "0   2008.0    BB McCullum  158.0\n",
      "1   2008.0      A Symonds  117.0\n",
      "2   2008.0     MEK Hussey  116.0\n",
      "3   2008.0       SE Marsh  115.0\n",
      "4   2008.0  ST Jayasuriya  114.0\n",
      "..     ...            ...    ...\n",
      "75  2023.0   Shubman Gill  129.0\n",
      "76  2023.0    YBK Jaiswal  124.0\n",
      "77  2023.0      H Klaasen  104.0\n",
      "78  2023.0   Shubman Gill  104.0\n",
      "79  2023.0       SA Yadav  103.0\n",
      "\n",
      "[80 rows x 3 columns]\n",
      "\n",
      "Overall Top 15 Run Scorer:\n",
      "name\n",
      "V Kohli           7263.0\n",
      "S Dhawan          6617.0\n",
      "DA Warner         6351.0\n",
      "RG Sharma         6191.0\n",
      "SK Raina          5528.0\n",
      "AB de Villiers    5162.0\n",
      "MS Dhoni          5082.0\n",
      "CH Gayle          4965.0\n",
      "RV Uthappa        4952.0\n",
      "KD Karthik        4516.0\n",
      "AM Rahane         4400.0\n",
      "AT Rayudu         4348.0\n",
      "G Gambhir         4217.0\n",
      "KL Rahul          4163.0\n",
      "F du Plessis      4133.0\n",
      "Name: runs, dtype: float64\n"
     ]
    },
    {
     "name": "stderr",
     "output_type": "stream",
     "text": [
      "C:\\Users\\Hardi\\AppData\\Local\\Temp\\ipykernel_14220\\3423671975.py:4: DeprecationWarning: DataFrameGroupBy.apply operated on the grouping columns. This behavior is deprecated, and in a future version of pandas the grouping columns will be excluded from the operation. Either pass `include_groups=False` to exclude the groupings or explicitly select the grouping columns after groupby to silence this warning.\n",
      "  top_5_scorers_per_season = df.groupby('season').apply(lambda x: x.nlargest(5, 'runs')).reset_index(drop=True)\n"
     ]
    }
   ],
   "source": [
    "df=pd.read_csv('/IPL_player_performance_analysis/Batting_data_cleaned/Batting_data_cleaned.csv')\n",
    "# Top run scorers by season\n",
    "# Assuming df is your DataFrame containing 'Season', 'Player', and 'Runs' columns\n",
    "top_5_scorers_per_season = df.groupby('season').apply(lambda x: x.nlargest(5, 'runs')).reset_index(drop=True)\n",
    "\n",
    "# Displaying only player names and runs scored\n",
    "result = top_5_scorers_per_season[['season', 'name', 'runs']]\n",
    "\n",
    "print(\"Top 5 Run Scorers by Season (Names and Runs):\")\n",
    "print(result)\n",
    "\n",
    "\n",
    "# Overall top scorer\n",
    "overall_top_scorer = df.groupby('name')['runs'].sum().nlargest(15)\n",
    "\n",
    "print(\"\\nOverall Top 15 Run Scorer:\")\n",
    "print(overall_top_scorer)\n"
   ]
  },
  {
   "cell_type": "code",
   "execution_count": 11,
   "id": "3207f77d-1dd1-4664-965c-4488b8279add",
   "metadata": {},
   "outputs": [
    {
     "data": {
      "text/html": [
       "<div>\n",
       "<style scoped>\n",
       "    .dataframe tbody tr th:only-of-type {\n",
       "        vertical-align: middle;\n",
       "    }\n",
       "\n",
       "    .dataframe tbody tr th {\n",
       "        vertical-align: top;\n",
       "    }\n",
       "\n",
       "    .dataframe thead th {\n",
       "        text-align: right;\n",
       "    }\n",
       "</style>\n",
       "<table border=\"1\" class=\"dataframe\">\n",
       "  <thead>\n",
       "    <tr style=\"text-align: right;\">\n",
       "      <th></th>\n",
       "      <th>name</th>\n",
       "      <th>strikeRate</th>\n",
       "    </tr>\n",
       "  </thead>\n",
       "  <tbody>\n",
       "    <tr>\n",
       "      <th>1850</th>\n",
       "      <td>DR Sams</td>\n",
       "      <td>600.0</td>\n",
       "    </tr>\n",
       "    <tr>\n",
       "      <th>5719</th>\n",
       "      <td>JPR Scantlebury-Searles</td>\n",
       "      <td>600.0</td>\n",
       "    </tr>\n",
       "    <tr>\n",
       "      <th>3731</th>\n",
       "      <td>N Pooran</td>\n",
       "      <td>600.0</td>\n",
       "    </tr>\n",
       "    <tr>\n",
       "      <th>3007</th>\n",
       "      <td>RA Jadeja</td>\n",
       "      <td>600.0</td>\n",
       "    </tr>\n",
       "    <tr>\n",
       "      <th>10966</th>\n",
       "      <td>R Vinay Kumar</td>\n",
       "      <td>600.0</td>\n",
       "    </tr>\n",
       "    <tr>\n",
       "      <th>9044</th>\n",
       "      <td>R Bhatia</td>\n",
       "      <td>600.0</td>\n",
       "    </tr>\n",
       "    <tr>\n",
       "      <th>9497</th>\n",
       "      <td>AP Tare</td>\n",
       "      <td>600.0</td>\n",
       "    </tr>\n",
       "    <tr>\n",
       "      <th>6255</th>\n",
       "      <td>Rashid Khan</td>\n",
       "      <td>600.0</td>\n",
       "    </tr>\n",
       "    <tr>\n",
       "      <th>12934</th>\n",
       "      <td>DJ Bravo</td>\n",
       "      <td>600.0</td>\n",
       "    </tr>\n",
       "    <tr>\n",
       "      <th>39</th>\n",
       "      <td>K Gowtham</td>\n",
       "      <td>600.0</td>\n",
       "    </tr>\n",
       "  </tbody>\n",
       "</table>\n",
       "</div>"
      ],
      "text/plain": [
       "                          name  strikeRate\n",
       "1850                   DR Sams       600.0\n",
       "5719   JPR Scantlebury-Searles       600.0\n",
       "3731                  N Pooran       600.0\n",
       "3007                 RA Jadeja       600.0\n",
       "10966            R Vinay Kumar       600.0\n",
       "9044                  R Bhatia       600.0\n",
       "9497                   AP Tare       600.0\n",
       "6255               Rashid Khan       600.0\n",
       "12934                 DJ Bravo       600.0\n",
       "39                   K Gowtham       600.0"
      ]
     },
     "execution_count": 11,
     "metadata": {},
     "output_type": "execute_result"
    }
   ],
   "source": [
    "# highest strike rate\n",
    "# Sort the players based on the strike rate in descending order\n",
    "top_strike_rates = df.sort_values(by='strikeRate', ascending=False)\n",
    "\n",
    "# Display only the top players' names and their strike rates\n",
    "top_strike_rates[['name', 'strikeRate']].head(10)  # Top 10 players by strike rate\n",
    "\n"
   ]
  },
  {
   "cell_type": "code",
   "execution_count": 13,
   "id": "e5a959fe-074b-4a5f-946c-5b4935e2cce0",
   "metadata": {},
   "outputs": [
    {
     "name": "stdout",
     "output_type": "stream",
     "text": [
      "                name  season  Average_Strike_Rate\n",
      "0     A Ashish Reddy  2012.0           130.000000\n",
      "1     A Ashish Reddy  2013.0           128.669000\n",
      "2     A Ashish Reddy  2015.0           164.054000\n",
      "3     A Ashish Reddy  2016.0           135.643333\n",
      "4           A Badoni  2022.0           126.291818\n",
      "...              ...     ...                  ...\n",
      "2468          Z Khan  2011.0            50.000000\n",
      "2469          Z Khan  2012.0            47.617500\n",
      "2470          Z Khan  2014.0            94.443333\n",
      "2471          Z Khan  2016.0            47.220000\n",
      "2472          Z Khan  2017.0            72.726667\n",
      "\n",
      "[2473 rows x 3 columns]\n"
     ]
    }
   ],
   "source": [
    "# Grouping by player name and season, then calculating the mean strike rate\n",
    "avg_strike_rate = df.groupby(['name', 'season'])['strikeRate'].mean().reset_index()\n",
    "\n",
    "# Renaming the columns \n",
    "avg_strike_rate.columns = ['name', 'season', 'Average_Strike_Rate']\n",
    "\n",
    "# Display the result\n",
    "print(avg_strike_rate)\n"
   ]
  },
  {
   "cell_type": "code",
   "execution_count": 20,
   "id": "c0dd493c-336d-4393-b61e-22130085bfb9",
   "metadata": {},
   "outputs": [
    {
     "name": "stdout",
     "output_type": "stream",
     "text": [
      "top 5 strike rate per season       season          name  strikeRate\n",
      "38    2008.0      DT Patil  237.500000\n",
      "24    2008.0  CRD Fernando  200.000000\n",
      "138   2008.0      Umar Gul  198.295000\n",
      "64    2008.0   LRPL Taylor  190.217500\n",
      "51    2008.0      JDP Oram  190.000000\n",
      "...      ...           ...         ...\n",
      "2459  2023.0   Umran Malik  237.500000\n",
      "2364  2023.0     K Gowtham  220.520000\n",
      "2317  2023.0    Akash Deep  212.500000\n",
      "2332  2023.0       D Wiese  194.443333\n",
      "2383  2023.0       MA Wood  191.665000\n",
      "\n",
      "[80 rows x 3 columns]\n"
     ]
    },
    {
     "name": "stderr",
     "output_type": "stream",
     "text": [
      "C:\\Users\\Hardi\\AppData\\Local\\Temp\\ipykernel_14220\\3079282274.py:5: DeprecationWarning: DataFrameGroupBy.apply operated on the grouping columns. This behavior is deprecated, and in a future version of pandas the grouping columns will be excluded from the operation. Either pass `include_groups=False` to exclude the groupings or explicitly select the grouping columns after groupby to silence this warning.\n",
      "  top_5_strike_rate_per_season = avg_strike_rate.groupby('season', group_keys=False).apply(lambda x: x.nlargest(5, 'strikeRate'))\n"
     ]
    }
   ],
   "source": [
    "# Group by player and season, calculate the mean strike rate for each player per season\n",
    "avg_strike_rate = df.groupby(['season', 'name'])['strikeRate'].mean().reset_index()\n",
    "\n",
    "# Exclude grouping columns\n",
    "top_5_strike_rate_per_season = avg_strike_rate.groupby('season', group_keys=False).apply(lambda x: x.nlargest(5, 'strikeRate'))\n",
    "\n",
    "# Display the result\n",
    "print('top 5 strike rate per season',top_5_strike_rate_per_season[['season', 'name', 'strikeRate']])\n"
   ]
  },
  {
   "cell_type": "code",
   "execution_count": null,
   "id": "f252c796-6c21-4d6c-a53f-f9be205a13e2",
   "metadata": {},
   "outputs": [],
   "source": [
    "total_runs = df.groupby(['season', 'name'])['runs'].sum().reset_index()\n",
    "\n",
    "# Get the top 5 scorers per season\n",
    "top_5_scorers = total_runs.groupby('season').apply(lambda x: x.nlargest(5, 'runs')).reset_index(drop=True)\n",
    "print(top_5_scorers)"
   ]
  }
 ],
 "metadata": {
  "kernelspec": {
   "display_name": "Python 3 (ipykernel)",
   "language": "python",
   "name": "python3"
  },
  "language_info": {
   "codemirror_mode": {
    "name": "ipython",
    "version": 3
   },
   "file_extension": ".py",
   "mimetype": "text/x-python",
   "name": "python",
   "nbconvert_exporter": "python",
   "pygments_lexer": "ipython3",
   "version": "3.12.4"
  }
 },
 "nbformat": 4,
 "nbformat_minor": 5
}

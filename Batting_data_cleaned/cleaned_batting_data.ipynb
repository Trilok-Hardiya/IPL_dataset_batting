{
 "cells": [
  {
   "cell_type": "code",
   "execution_count": 3,
   "id": "979c0a33-743c-4c04-bd77-af368933f64d",
   "metadata": {},
   "outputs": [],
   "source": [
    "import numpy as np;\n",
    "import pandas as pd;"
   ]
  },
  {
   "cell_type": "code",
   "execution_count": 113,
   "id": "cba5994a-47b1-4374-8d5e-27873ce720a1",
   "metadata": {},
   "outputs": [],
   "source": [
    "df=pd.read_csv('/IPL_player_performance_analysis/Raw_source_data/all_season_batting_card.csv')"
   ]
  },
  {
   "cell_type": "code",
   "execution_count": 114,
   "id": "f398353b-c2e6-480b-81c0-b06aea39b95b",
   "metadata": {},
   "outputs": [
    {
     "name": "stdout",
     "output_type": "stream",
     "text": [
      "<class 'pandas.core.frame.DataFrame'>\n",
      "RangeIndex: 15720 entries, 0 to 15719\n",
      "Data columns (total 25 columns):\n",
      " #   Column           Non-Null Count  Dtype  \n",
      "---  ------           --------------  -----  \n",
      " 0   season           15684 non-null  float64\n",
      " 1   match_id         15720 non-null  int64  \n",
      " 2   match_name       15720 non-null  object \n",
      " 3   home_team        15720 non-null  object \n",
      " 4   away_team        15720 non-null  object \n",
      " 5   venue            15720 non-null  object \n",
      " 6   city             15720 non-null  object \n",
      " 7   country          15720 non-null  object \n",
      " 8   current_innings  15720 non-null  object \n",
      " 9   innings_id       15720 non-null  int64  \n",
      " 10  name             15720 non-null  object \n",
      " 11  fullName         15720 non-null  object \n",
      " 12  runs             15714 non-null  float64\n",
      " 13  ballsFaced       15714 non-null  float64\n",
      " 14  minutes          15714 non-null  object \n",
      " 15  fours            15714 non-null  float64\n",
      " 16  sixes            15714 non-null  float64\n",
      " 17  strikeRate       15714 non-null  object \n",
      " 18  captain          15720 non-null  bool   \n",
      " 19  isNotOut         15714 non-null  object \n",
      " 20  runningScore     15714 non-null  object \n",
      " 21  runningOver      12029 non-null  float64\n",
      " 22  shortText        15720 non-null  object \n",
      " 23  commentary       12026 non-null  object \n",
      " 24  link             0 non-null      float64\n",
      "dtypes: bool(1), float64(7), int64(2), object(15)\n",
      "memory usage: 2.9+ MB\n"
     ]
    }
   ],
   "source": [
    "df.info()"
   ]
  },
  {
   "cell_type": "code",
   "execution_count": 115,
   "id": "e556f38c-7804-4be2-8c46-f29ac22dafe4",
   "metadata": {},
   "outputs": [],
   "source": [
    "df.drop(['link','commentary','shortText','runningOver'],axis=1,inplace=True);"
   ]
  },
  {
   "cell_type": "code",
   "execution_count": 116,
   "id": "edb6ea3b-5413-4c23-9358-c765ef90bd04",
   "metadata": {},
   "outputs": [
    {
     "name": "stdout",
     "output_type": "stream",
     "text": [
      "<class 'pandas.core.frame.DataFrame'>\n",
      "RangeIndex: 15720 entries, 0 to 15719\n",
      "Data columns (total 21 columns):\n",
      " #   Column           Non-Null Count  Dtype  \n",
      "---  ------           --------------  -----  \n",
      " 0   season           15684 non-null  float64\n",
      " 1   match_id         15720 non-null  int64  \n",
      " 2   match_name       15720 non-null  object \n",
      " 3   home_team        15720 non-null  object \n",
      " 4   away_team        15720 non-null  object \n",
      " 5   venue            15720 non-null  object \n",
      " 6   city             15720 non-null  object \n",
      " 7   country          15720 non-null  object \n",
      " 8   current_innings  15720 non-null  object \n",
      " 9   innings_id       15720 non-null  int64  \n",
      " 10  name             15720 non-null  object \n",
      " 11  fullName         15720 non-null  object \n",
      " 12  runs             15714 non-null  float64\n",
      " 13  ballsFaced       15714 non-null  float64\n",
      " 14  minutes          15714 non-null  object \n",
      " 15  fours            15714 non-null  float64\n",
      " 16  sixes            15714 non-null  float64\n",
      " 17  strikeRate       15714 non-null  object \n",
      " 18  captain          15720 non-null  bool   \n",
      " 19  isNotOut         15714 non-null  object \n",
      " 20  runningScore     15714 non-null  object \n",
      "dtypes: bool(1), float64(5), int64(2), object(13)\n",
      "memory usage: 2.4+ MB\n"
     ]
    }
   ],
   "source": [
    "df.info()"
   ]
  },
  {
   "cell_type": "code",
   "execution_count": 117,
   "id": "aaf05bc8-87c3-405f-8745-e8d9dfcc86ba",
   "metadata": {},
   "outputs": [],
   "source": [
    "#converting minutes from txt to int\n",
    "df['minutes'] = pd.to_numeric(df['minutes'], errors='coerce')"
   ]
  },
  {
   "cell_type": "code",
   "execution_count": 118,
   "id": "2f18871a-f152-496b-98ad-5825b57392e0",
   "metadata": {},
   "outputs": [],
   "source": [
    "avg_value = df_cleaned['minutes'].mean()\n",
    "df['minutes'] = df['minutes'].fillna(avg_value)\n"
   ]
  },
  {
   "cell_type": "code",
   "execution_count": 119,
   "id": "c96e9273-44e4-4a8c-ac44-5373b2ab6ab0",
   "metadata": {},
   "outputs": [],
   "source": [
    "df=df.dropna(subset=['season','ballsFaced','sixes','fours'])\n"
   ]
  },
  {
   "cell_type": "code",
   "execution_count": 120,
   "id": "074dc72a-1734-4f80-b72c-cb038482f3ac",
   "metadata": {},
   "outputs": [
    {
     "name": "stdout",
     "output_type": "stream",
     "text": [
      "<class 'pandas.core.frame.DataFrame'>\n",
      "Index: 15678 entries, 0 to 15719\n",
      "Data columns (total 21 columns):\n",
      " #   Column           Non-Null Count  Dtype  \n",
      "---  ------           --------------  -----  \n",
      " 0   season           15678 non-null  float64\n",
      " 1   match_id         15678 non-null  int64  \n",
      " 2   match_name       15678 non-null  object \n",
      " 3   home_team        15678 non-null  object \n",
      " 4   away_team        15678 non-null  object \n",
      " 5   venue            15678 non-null  object \n",
      " 6   city             15678 non-null  object \n",
      " 7   country          15678 non-null  object \n",
      " 8   current_innings  15678 non-null  object \n",
      " 9   innings_id       15678 non-null  int64  \n",
      " 10  name             15678 non-null  object \n",
      " 11  fullName         15678 non-null  object \n",
      " 12  runs             15678 non-null  float64\n",
      " 13  ballsFaced       15678 non-null  float64\n",
      " 14  minutes          15678 non-null  float64\n",
      " 15  fours            15678 non-null  float64\n",
      " 16  sixes            15678 non-null  float64\n",
      " 17  strikeRate       15678 non-null  object \n",
      " 18  captain          15678 non-null  bool   \n",
      " 19  isNotOut         15678 non-null  object \n",
      " 20  runningScore     15678 non-null  object \n",
      "dtypes: bool(1), float64(6), int64(2), object(12)\n",
      "memory usage: 2.5+ MB\n"
     ]
    }
   ],
   "source": [
    "df.info()"
   ]
  },
  {
   "cell_type": "code",
   "execution_count": 121,
   "id": "f28f83dc-8f7d-4a8f-93e4-4304379a1a97",
   "metadata": {},
   "outputs": [],
   "source": [
    "df['runs'] = df.groupby('name')['runs'].transform(lambda x: x.fillna(x.mean()))\n"
   ]
  },
  {
   "cell_type": "code",
   "execution_count": 122,
   "id": "aadb1c41-74d4-4aa8-ba5b-a4ae20bdc619",
   "metadata": {},
   "outputs": [],
   "source": [
    "df['sixes'] = df.groupby('name')['sixes'].transform(lambda x: x.fillna(x.mean()))\n"
   ]
  },
  {
   "cell_type": "code",
   "execution_count": 125,
   "id": "a4b48725-8f80-4894-a794-944ea07f256c",
   "metadata": {},
   "outputs": [
    {
     "name": "stdout",
     "output_type": "stream",
     "text": [
      "<class 'pandas.core.frame.DataFrame'>\n",
      "Index: 15678 entries, 0 to 15719\n",
      "Data columns (total 21 columns):\n",
      " #   Column           Non-Null Count  Dtype  \n",
      "---  ------           --------------  -----  \n",
      " 0   season           15678 non-null  float64\n",
      " 1   match_id         15678 non-null  int64  \n",
      " 2   match_name       15678 non-null  object \n",
      " 3   home_team        15678 non-null  object \n",
      " 4   away_team        15678 non-null  object \n",
      " 5   venue            15678 non-null  object \n",
      " 6   city             15678 non-null  object \n",
      " 7   country          15678 non-null  object \n",
      " 8   current_innings  15678 non-null  object \n",
      " 9   innings_id       15678 non-null  int64  \n",
      " 10  name             15678 non-null  object \n",
      " 11  fullName         15678 non-null  object \n",
      " 12  runs             15678 non-null  float64\n",
      " 13  ballsFaced       15678 non-null  float64\n",
      " 14  minutes          15678 non-null  float64\n",
      " 15  fours            15678 non-null  float64\n",
      " 16  sixes            15678 non-null  float64\n",
      " 17  strikeRate       15678 non-null  object \n",
      " 18  captain          15678 non-null  bool   \n",
      " 19  isNotOut         15678 non-null  object \n",
      " 20  runningScore     15678 non-null  object \n",
      "dtypes: bool(1), float64(6), int64(2), object(12)\n",
      "memory usage: 2.5+ MB\n"
     ]
    }
   ],
   "source": [
    "df.info()"
   ]
  },
  {
   "cell_type": "code",
   "execution_count": null,
   "id": "e1214364-3fd2-45de-9054-8819312dd553",
   "metadata": {},
   "outputs": [],
   "source": []
  },
  {
   "cell_type": "code",
   "execution_count": null,
   "id": "86655afd-8a8f-4077-83c4-fa7fa8c50d0a",
   "metadata": {},
   "outputs": [],
   "source": []
  }
 ],
 "metadata": {
  "kernelspec": {
   "display_name": "Python 3 (ipykernel)",
   "language": "python",
   "name": "python3"
  },
  "language_info": {
   "codemirror_mode": {
    "name": "ipython",
    "version": 3
   },
   "file_extension": ".py",
   "mimetype": "text/x-python",
   "name": "python",
   "nbconvert_exporter": "python",
   "pygments_lexer": "ipython3",
   "version": "3.12.4"
  }
 },
 "nbformat": 4,
 "nbformat_minor": 5
}
